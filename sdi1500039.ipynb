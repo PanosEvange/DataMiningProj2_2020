{
 "cells": [
  {
   "cell_type": "markdown",
   "metadata": {},
   "source": [
    "# <center>Data Mining Project 2 Spring semester 2019-2020</center>\n",
    "## <center>Παναγιώτης Ευαγγελίου &emsp; 1115201500039</center>\n",
    "## <center>Γεώργιος Μαραγκοζάκης &emsp; 1115201500089</center>"
   ]
  },
  {
   "cell_type": "markdown",
   "metadata": {},
   "source": [
    "___"
   ]
  },
  {
   "cell_type": "markdown",
   "metadata": {},
   "source": [
    "### Do all the necessary imports for this notebook"
   ]
  },
  {
   "cell_type": "code",
   "execution_count": 1,
   "metadata": {
    "ExecuteTime": {
     "end_time": "2020-04-26T07:43:58.305394Z",
     "start_time": "2020-04-26T07:43:58.196456Z"
    },
    "lines_to_end_of_cell_marker": 0,
    "lines_to_next_cell": 1
   },
   "outputs": [],
   "source": [
    "# visualization\n",
    "from wordcloud import WordCloud\n",
    "from IPython.display import Image"
   ]
  },
  {
   "cell_type": "markdown",
   "metadata": {},
   "source": [
    "## __Dataset Preprocessing__"
   ]
  },
  {
   "cell_type": "markdown",
   "metadata": {},
   "source": [
    "- ### *Make tsv files from all the txt files*"
   ]
  },
  {
   "cell_type": "code",
   "execution_count": 2,
   "metadata": {
    "ExecuteTime": {
     "end_time": "2020-04-26T07:43:58.308766Z",
     "start_time": "2020-04-26T07:43:58.306949Z"
    }
   },
   "outputs": [],
   "source": [
    "\n",
    "# to fill\n"
   ]
  },
  {
   "cell_type": "markdown",
   "metadata": {},
   "source": [
    "## __Make wordcloud for each category__"
   ]
  },
  {
   "cell_type": "code",
   "execution_count": 3,
   "metadata": {
    "ExecuteTime": {
     "end_time": "2020-04-26T07:43:58.406984Z",
     "start_time": "2020-04-26T07:43:58.310362Z"
    }
   },
   "outputs": [],
   "source": [
    "def makeWordCloud(myText, saveLocationPath, myMaxWords=100, myMask=None, myStopWords=None):\n",
    "    '''Default function for generating wordcloud'''\n",
    "\n",
    "    wc = WordCloud(background_color=\"white\", mask=myMask, max_words=myMaxWords,\n",
    "                   stopwords=myStopWords, contour_width=3, contour_color='steelblue')\n",
    "\n",
    "    # generate word cloud\n",
    "    wc.generate(myText)\n",
    "\n",
    "    # store to file\n",
    "\n",
    "    wc.to_file(saveLocationPath)\n",
    "\n",
    "    return saveLocationPath"
   ]
  },
  {
   "cell_type": "markdown",
   "metadata": {},
   "source": [
    "- ### *Business Wordcloud*"
   ]
  },
  {
   "cell_type": "code",
   "execution_count": 4,
   "metadata": {
    "ExecuteTime": {
     "end_time": "2020-04-26T07:43:58.527203Z",
     "start_time": "2020-04-26T07:43:58.408686Z"
    }
   },
   "outputs": [],
   "source": [
    "\n",
    "# to fill\n"
   ]
  },
  {
   "cell_type": "markdown",
   "metadata": {},
   "source": [
    "- ### *Entertainment Wordcloud*"
   ]
  },
  {
   "cell_type": "code",
   "execution_count": 5,
   "metadata": {
    "ExecuteTime": {
     "end_time": "2020-04-26T07:43:58.628792Z",
     "start_time": "2020-04-26T07:43:58.528844Z"
    }
   },
   "outputs": [],
   "source": [
    "\n",
    "# to fill\n"
   ]
  },
  {
   "cell_type": "markdown",
   "metadata": {},
   "source": [
    "- ### *Politics Wordcloud*"
   ]
  },
  {
   "cell_type": "code",
   "execution_count": 6,
   "metadata": {
    "ExecuteTime": {
     "end_time": "2020-04-26T07:43:58.719867Z",
     "start_time": "2020-04-26T07:43:58.629976Z"
    }
   },
   "outputs": [],
   "source": [
    "\n",
    "# to fill\n"
   ]
  },
  {
   "cell_type": "markdown",
   "metadata": {},
   "source": [
    "- ### *Sport Wordcloud*"
   ]
  },
  {
   "cell_type": "code",
   "execution_count": 7,
   "metadata": {
    "ExecuteTime": {
     "end_time": "2020-04-26T07:43:58.806764Z",
     "start_time": "2020-04-26T07:43:58.721437Z"
    }
   },
   "outputs": [],
   "source": [
    "\n",
    "# to fill\n"
   ]
  },
  {
   "cell_type": "markdown",
   "metadata": {},
   "source": [
    "- ### *Tech Wordcloud*"
   ]
  },
  {
   "cell_type": "code",
   "execution_count": 8,
   "metadata": {
    "ExecuteTime": {
     "end_time": "2020-04-26T07:43:58.897127Z",
     "start_time": "2020-04-26T07:43:58.808662Z"
    }
   },
   "outputs": [],
   "source": [
    "\n",
    "# to fill\n"
   ]
  }
 ],
 "metadata": {
  "jupytext": {
   "cell_markers": "region,endregion",
   "encoding": "# -*- coding: utf-8 -*-",
   "formats": "ipynb,py:light"
  },
  "kernelspec": {
   "display_name": "Python 3",
   "language": "python",
   "name": "python3"
  },
  "language_info": {
   "codemirror_mode": {
    "name": "ipython",
    "version": 3
   },
   "file_extension": ".py",
   "mimetype": "text/x-python",
   "name": "python",
   "nbconvert_exporter": "python",
   "pygments_lexer": "ipython3",
   "version": "3.7.7"
  }
 },
 "nbformat": 4,
 "nbformat_minor": 4
}
