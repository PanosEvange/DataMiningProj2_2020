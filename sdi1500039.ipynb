{
 "cells": [
  {
   "cell_type": "markdown",
   "metadata": {},
   "source": [
    "# <center>Data Mining Project 2 Spring semester 2019-2020</center>\n",
    "## <center>Παναγιώτης Ευαγγελίου &emsp; 1115201500039</center>\n",
    "## <center>Γεώργιος Μαραγκοζάκης &emsp; 1115201500089</center>"
   ]
  },
  {
   "cell_type": "markdown",
   "metadata": {},
   "source": [
    "___"
   ]
  },
  {
   "cell_type": "markdown",
   "metadata": {},
   "source": [
    "### Do all the necessary imports for this notebook"
   ]
  },
  {
   "cell_type": "code",
   "execution_count": 1,
   "metadata": {
    "ExecuteTime": {
     "end_time": "2020-04-26T13:55:04.986436Z",
     "start_time": "2020-04-26T13:55:04.388492Z"
    }
   },
   "outputs": [],
   "source": [
    "# data processing\n",
    "import pandas as pd\n",
    "from sklearn.model_selection import train_test_split\n",
    "\n",
    "# visualization\n",
    "from wordcloud import WordCloud\n",
    "from IPython.display import Image"
   ]
  },
  {
   "cell_type": "markdown",
   "metadata": {},
   "source": [
    "## __Dataset Preprocessing__"
   ]
  },
  {
   "cell_type": "markdown",
   "metadata": {},
   "source": [
    "- ### *Make tsv files from all the txt files*"
   ]
  },
  {
   "cell_type": "code",
   "execution_count": 2,
   "metadata": {
    "ExecuteTime": {
     "end_time": "2020-04-26T13:55:04.990154Z",
     "start_time": "2020-04-26T13:55:04.988160Z"
    }
   },
   "outputs": [],
   "source": [
    "\n",
    "# to fill\n"
   ]
  },
  {
   "cell_type": "code",
   "execution_count": 3,
   "metadata": {
    "ExecuteTime": {
     "end_time": "2020-04-26T13:55:05.086552Z",
     "start_time": "2020-04-26T13:55:04.992392Z"
    },
    "lines_to_end_of_cell_marker": 0,
    "lines_to_next_cell": 1
   },
   "outputs": [],
   "source": [
    "dataSetDf = pd.read_csv(\"testData.tsv\", sep='\\t')"
   ]
  },
  {
   "cell_type": "markdown",
   "metadata": {},
   "source": [
    "## __Make wordcloud for each category__"
   ]
  },
  {
   "cell_type": "code",
   "execution_count": 4,
   "metadata": {
    "ExecuteTime": {
     "end_time": "2020-04-26T13:55:05.166153Z",
     "start_time": "2020-04-26T13:55:05.089857Z"
    }
   },
   "outputs": [],
   "source": [
    "def makeWordCloud(myText, saveLocationPath, myMaxWords=100, myMask=None, myStopWords=None):\n",
    "    '''Default function for generating wordcloud'''\n",
    "\n",
    "    wc = WordCloud(background_color=\"white\", mask=myMask, max_words=myMaxWords,\n",
    "                   stopwords=myStopWords, contour_width=3, contour_color='steelblue')\n",
    "\n",
    "    # generate word cloud\n",
    "    wc.generate(myText)\n",
    "\n",
    "    # store to file\n",
    "\n",
    "    wc.to_file(saveLocationPath)\n",
    "\n",
    "    return saveLocationPath"
   ]
  },
  {
   "cell_type": "markdown",
   "metadata": {},
   "source": [
    "- ### *Business Wordcloud*"
   ]
  },
  {
   "cell_type": "code",
   "execution_count": 5,
   "metadata": {
    "ExecuteTime": {
     "end_time": "2020-04-26T13:55:05.242852Z",
     "start_time": "2020-04-26T13:55:05.167680Z"
    }
   },
   "outputs": [],
   "source": [
    "\n",
    "# to fill\n"
   ]
  },
  {
   "cell_type": "markdown",
   "metadata": {},
   "source": [
    "- ### *Entertainment Wordcloud*"
   ]
  },
  {
   "cell_type": "code",
   "execution_count": 6,
   "metadata": {
    "ExecuteTime": {
     "end_time": "2020-04-26T13:55:05.353596Z",
     "start_time": "2020-04-26T13:55:05.244795Z"
    }
   },
   "outputs": [],
   "source": [
    "\n",
    "# to fill\n"
   ]
  },
  {
   "cell_type": "markdown",
   "metadata": {},
   "source": [
    "- ### *Politics Wordcloud*"
   ]
  },
  {
   "cell_type": "code",
   "execution_count": 7,
   "metadata": {
    "ExecuteTime": {
     "end_time": "2020-04-26T13:55:05.431928Z",
     "start_time": "2020-04-26T13:55:05.355010Z"
    }
   },
   "outputs": [],
   "source": [
    "\n",
    "# to fill\n"
   ]
  },
  {
   "cell_type": "markdown",
   "metadata": {},
   "source": [
    "- ### *Sport Wordcloud*"
   ]
  },
  {
   "cell_type": "code",
   "execution_count": 8,
   "metadata": {
    "ExecuteTime": {
     "end_time": "2020-04-26T13:55:05.509739Z",
     "start_time": "2020-04-26T13:55:05.434969Z"
    }
   },
   "outputs": [],
   "source": [
    "\n",
    "# to fill\n"
   ]
  },
  {
   "cell_type": "markdown",
   "metadata": {},
   "source": [
    "- ### *Tech Wordcloud*"
   ]
  },
  {
   "cell_type": "code",
   "execution_count": 9,
   "metadata": {
    "ExecuteTime": {
     "end_time": "2020-04-26T13:55:05.609591Z",
     "start_time": "2020-04-26T13:55:05.511658Z"
    }
   },
   "outputs": [],
   "source": [
    "\n",
    "# to fill\n"
   ]
  },
  {
   "cell_type": "markdown",
   "metadata": {},
   "source": [
    "## __Classification__"
   ]
  },
  {
   "cell_type": "markdown",
   "metadata": {},
   "source": [
    "- ### *Split DataSet into TrainData and TestData*"
   ]
  },
  {
   "cell_type": "code",
   "execution_count": 10,
   "metadata": {
    "ExecuteTime": {
     "end_time": "2020-04-26T13:55:05.704786Z",
     "start_time": "2020-04-26T13:55:05.611568Z"
    }
   },
   "outputs": [],
   "source": [
    "\n",
    "# trainDataSet, testDataSet = train_test_split(dataSetDf, test_size=0.2, stratify=dataSetDf['CATEGORY'])\n",
    "\n",
    "# to be removed and use the above\n",
    "trainDataSet, testDataSet = train_test_split(dataSetDf, test_size=0.3, stratify=dataSetDf['CATEGORY']) \n",
    "# to be removed and use the above\n",
    "\n",
    "# reset index\n",
    "trainDataSet.reset_index(drop=True, inplace=True)\n",
    "testDataSet.reset_index(drop=True, inplace=True)\n",
    "\n",
    "# save to tsv files\n",
    "trainDataSet.to_csv('train_set.tsv', sep = '\\t')\n",
    "\n",
    "# save test_set categories\n",
    "testDataSetCategories = testDataSet[['CATEGORY']].copy()\n",
    "\n",
    "testDataSetCategories.to_csv('test_set_categories.tsv', sep = '\\t')\n",
    "\n",
    "testDataSet = testDataSet.drop('CATEGORY', axis=1)\n",
    "testDataSet.to_csv('test_set.tsv', sep = '\\t')"
   ]
  },
  {
   "cell_type": "code",
   "execution_count": 11,
   "metadata": {
    "ExecuteTime": {
     "end_time": "2020-04-26T13:55:05.847444Z",
     "start_time": "2020-04-26T13:55:05.706135Z"
    }
   },
   "outputs": [
    {
     "data": {
      "text/html": [
       "<div>\n",
       "<style scoped>\n",
       "    .dataframe tbody tr th:only-of-type {\n",
       "        vertical-align: middle;\n",
       "    }\n",
       "\n",
       "    .dataframe tbody tr th {\n",
       "        vertical-align: top;\n",
       "    }\n",
       "\n",
       "    .dataframe thead th {\n",
       "        text-align: right;\n",
       "    }\n",
       "</style>\n",
       "<table border=\"1\" class=\"dataframe\">\n",
       "  <thead>\n",
       "    <tr style=\"text-align: right;\">\n",
       "      <th></th>\n",
       "      <th>ID</th>\n",
       "      <th>TITLE</th>\n",
       "      <th>CONTENT</th>\n",
       "      <th>CATEGORY</th>\n",
       "    </tr>\n",
       "  </thead>\n",
       "  <tbody>\n",
       "    <tr>\n",
       "      <th>0</th>\n",
       "      <td>0</td>\n",
       "      <td>Ad sales boost Time Warner profit</td>\n",
       "      <td>Quarterly profits at US media giant TimeWarner...</td>\n",
       "      <td>BUSINESS</td>\n",
       "    </tr>\n",
       "    <tr>\n",
       "      <th>1</th>\n",
       "      <td>1</td>\n",
       "      <td>Dollar gains on Greenspan speech</td>\n",
       "      <td>The dollar has hit its highest level against t...</td>\n",
       "      <td>BUSINESS</td>\n",
       "    </tr>\n",
       "    <tr>\n",
       "      <th>2</th>\n",
       "      <td>2</td>\n",
       "      <td>Yukos unit buyer faces loan claim</td>\n",
       "      <td>The owners of embattled Russian oil giant Yuko...</td>\n",
       "      <td>BUSINESS</td>\n",
       "    </tr>\n",
       "    <tr>\n",
       "      <th>3</th>\n",
       "      <td>3</td>\n",
       "      <td>Gallery unveils interactive tree</td>\n",
       "      <td>A Christmas tree that can receive text message...</td>\n",
       "      <td>ENTERTAINMENT</td>\n",
       "    </tr>\n",
       "    <tr>\n",
       "      <th>4</th>\n",
       "      <td>4</td>\n",
       "      <td>Jarre joins fairytale celebration</td>\n",
       "      <td>French musician Jean-Michel Jarre is to perfor...</td>\n",
       "      <td>ENTERTAINMENT</td>\n",
       "    </tr>\n",
       "    <tr>\n",
       "      <th>5</th>\n",
       "      <td>5</td>\n",
       "      <td>Musical treatment for Capra film</td>\n",
       "      <td>The classic film It's A Wonderful Life is to b...</td>\n",
       "      <td>ENTERTAINMENT</td>\n",
       "    </tr>\n",
       "    <tr>\n",
       "      <th>6</th>\n",
       "      <td>6</td>\n",
       "      <td>Labour plans maternity pay rise</td>\n",
       "      <td>Maternity pay for new mothers is to rise by £1...</td>\n",
       "      <td>POLITICS</td>\n",
       "    </tr>\n",
       "    <tr>\n",
       "      <th>7</th>\n",
       "      <td>7</td>\n",
       "      <td>Watchdog probes e-mail deletions</td>\n",
       "      <td>The information commissioner says he is urgent...</td>\n",
       "      <td>POLITICS</td>\n",
       "    </tr>\n",
       "    <tr>\n",
       "      <th>8</th>\n",
       "      <td>8</td>\n",
       "      <td>Hewitt decries 'career sexism'</td>\n",
       "      <td>Plans to extend paid maternity leave beyond si...</td>\n",
       "      <td>POLITICS</td>\n",
       "    </tr>\n",
       "    <tr>\n",
       "      <th>9</th>\n",
       "      <td>9</td>\n",
       "      <td>Claxton hunting first major medal</td>\n",
       "      <td>British hurdler Sarah Claxton is confident she...</td>\n",
       "      <td>SPORT</td>\n",
       "    </tr>\n",
       "    <tr>\n",
       "      <th>10</th>\n",
       "      <td>10</td>\n",
       "      <td>O'Sullivan could run in Worlds</td>\n",
       "      <td>Sonia O'Sullivan has indicated that she would ...</td>\n",
       "      <td>SPORT</td>\n",
       "    </tr>\n",
       "    <tr>\n",
       "      <th>11</th>\n",
       "      <td>11</td>\n",
       "      <td>Greene sets sights on world title</td>\n",
       "      <td>Maurice Greene aims to wipe out the pain of lo...</td>\n",
       "      <td>SPORT</td>\n",
       "    </tr>\n",
       "    <tr>\n",
       "      <th>12</th>\n",
       "      <td>12</td>\n",
       "      <td>Ink helps drive democracy in Asia</td>\n",
       "      <td>The Kyrgyz Republic, a small, mountainous stat...</td>\n",
       "      <td>TECH</td>\n",
       "    </tr>\n",
       "    <tr>\n",
       "      <th>13</th>\n",
       "      <td>13</td>\n",
       "      <td>China net cafe culture crackdown</td>\n",
       "      <td>Chinese authorities closed 12,575 net cafes in...</td>\n",
       "      <td>TECH</td>\n",
       "    </tr>\n",
       "    <tr>\n",
       "      <th>14</th>\n",
       "      <td>14</td>\n",
       "      <td>Microsoft seeking spyware trojan</td>\n",
       "      <td>Microsoft is investigating a trojan program th...</td>\n",
       "      <td>TECH</td>\n",
       "    </tr>\n",
       "  </tbody>\n",
       "</table>\n",
       "</div>"
      ],
      "text/plain": [
       "    ID                              TITLE  \\\n",
       "0    0  Ad sales boost Time Warner profit   \n",
       "1    1   Dollar gains on Greenspan speech   \n",
       "2    2  Yukos unit buyer faces loan claim   \n",
       "3    3   Gallery unveils interactive tree   \n",
       "4    4  Jarre joins fairytale celebration   \n",
       "5    5   Musical treatment for Capra film   \n",
       "6    6    Labour plans maternity pay rise   \n",
       "7    7   Watchdog probes e-mail deletions   \n",
       "8    8     Hewitt decries 'career sexism'   \n",
       "9    9  Claxton hunting first major medal   \n",
       "10  10     O'Sullivan could run in Worlds   \n",
       "11  11  Greene sets sights on world title   \n",
       "12  12  Ink helps drive democracy in Asia   \n",
       "13  13   China net cafe culture crackdown   \n",
       "14  14   Microsoft seeking spyware trojan   \n",
       "\n",
       "                                              CONTENT       CATEGORY  \n",
       "0   Quarterly profits at US media giant TimeWarner...       BUSINESS  \n",
       "1   The dollar has hit its highest level against t...       BUSINESS  \n",
       "2   The owners of embattled Russian oil giant Yuko...       BUSINESS  \n",
       "3   A Christmas tree that can receive text message...  ENTERTAINMENT  \n",
       "4   French musician Jean-Michel Jarre is to perfor...  ENTERTAINMENT  \n",
       "5   The classic film It's A Wonderful Life is to b...  ENTERTAINMENT  \n",
       "6   Maternity pay for new mothers is to rise by £1...       POLITICS  \n",
       "7   The information commissioner says he is urgent...       POLITICS  \n",
       "8   Plans to extend paid maternity leave beyond si...       POLITICS  \n",
       "9   British hurdler Sarah Claxton is confident she...          SPORT  \n",
       "10  Sonia O'Sullivan has indicated that she would ...          SPORT  \n",
       "11  Maurice Greene aims to wipe out the pain of lo...          SPORT  \n",
       "12  The Kyrgyz Republic, a small, mountainous stat...           TECH  \n",
       "13  Chinese authorities closed 12,575 net cafes in...           TECH  \n",
       "14  Microsoft is investigating a trojan program th...           TECH  "
      ]
     },
     "execution_count": 11,
     "metadata": {},
     "output_type": "execute_result"
    }
   ],
   "source": [
    "dataSetDf"
   ]
  },
  {
   "cell_type": "code",
   "execution_count": 12,
   "metadata": {
    "ExecuteTime": {
     "end_time": "2020-04-26T13:55:05.945705Z",
     "start_time": "2020-04-26T13:55:05.848714Z"
    }
   },
   "outputs": [
    {
     "data": {
      "text/html": [
       "<div>\n",
       "<style scoped>\n",
       "    .dataframe tbody tr th:only-of-type {\n",
       "        vertical-align: middle;\n",
       "    }\n",
       "\n",
       "    .dataframe tbody tr th {\n",
       "        vertical-align: top;\n",
       "    }\n",
       "\n",
       "    .dataframe thead th {\n",
       "        text-align: right;\n",
       "    }\n",
       "</style>\n",
       "<table border=\"1\" class=\"dataframe\">\n",
       "  <thead>\n",
       "    <tr style=\"text-align: right;\">\n",
       "      <th></th>\n",
       "      <th>ID</th>\n",
       "      <th>TITLE</th>\n",
       "      <th>CONTENT</th>\n",
       "      <th>CATEGORY</th>\n",
       "    </tr>\n",
       "  </thead>\n",
       "  <tbody>\n",
       "    <tr>\n",
       "      <th>0</th>\n",
       "      <td>4</td>\n",
       "      <td>Jarre joins fairytale celebration</td>\n",
       "      <td>French musician Jean-Michel Jarre is to perfor...</td>\n",
       "      <td>ENTERTAINMENT</td>\n",
       "    </tr>\n",
       "    <tr>\n",
       "      <th>1</th>\n",
       "      <td>11</td>\n",
       "      <td>Greene sets sights on world title</td>\n",
       "      <td>Maurice Greene aims to wipe out the pain of lo...</td>\n",
       "      <td>SPORT</td>\n",
       "    </tr>\n",
       "    <tr>\n",
       "      <th>2</th>\n",
       "      <td>7</td>\n",
       "      <td>Watchdog probes e-mail deletions</td>\n",
       "      <td>The information commissioner says he is urgent...</td>\n",
       "      <td>POLITICS</td>\n",
       "    </tr>\n",
       "    <tr>\n",
       "      <th>3</th>\n",
       "      <td>1</td>\n",
       "      <td>Dollar gains on Greenspan speech</td>\n",
       "      <td>The dollar has hit its highest level against t...</td>\n",
       "      <td>BUSINESS</td>\n",
       "    </tr>\n",
       "    <tr>\n",
       "      <th>4</th>\n",
       "      <td>5</td>\n",
       "      <td>Musical treatment for Capra film</td>\n",
       "      <td>The classic film It's A Wonderful Life is to b...</td>\n",
       "      <td>ENTERTAINMENT</td>\n",
       "    </tr>\n",
       "    <tr>\n",
       "      <th>5</th>\n",
       "      <td>6</td>\n",
       "      <td>Labour plans maternity pay rise</td>\n",
       "      <td>Maternity pay for new mothers is to rise by £1...</td>\n",
       "      <td>POLITICS</td>\n",
       "    </tr>\n",
       "    <tr>\n",
       "      <th>6</th>\n",
       "      <td>2</td>\n",
       "      <td>Yukos unit buyer faces loan claim</td>\n",
       "      <td>The owners of embattled Russian oil giant Yuko...</td>\n",
       "      <td>BUSINESS</td>\n",
       "    </tr>\n",
       "    <tr>\n",
       "      <th>7</th>\n",
       "      <td>9</td>\n",
       "      <td>Claxton hunting first major medal</td>\n",
       "      <td>British hurdler Sarah Claxton is confident she...</td>\n",
       "      <td>SPORT</td>\n",
       "    </tr>\n",
       "    <tr>\n",
       "      <th>8</th>\n",
       "      <td>13</td>\n",
       "      <td>China net cafe culture crackdown</td>\n",
       "      <td>Chinese authorities closed 12,575 net cafes in...</td>\n",
       "      <td>TECH</td>\n",
       "    </tr>\n",
       "    <tr>\n",
       "      <th>9</th>\n",
       "      <td>12</td>\n",
       "      <td>Ink helps drive democracy in Asia</td>\n",
       "      <td>The Kyrgyz Republic, a small, mountainous stat...</td>\n",
       "      <td>TECH</td>\n",
       "    </tr>\n",
       "  </tbody>\n",
       "</table>\n",
       "</div>"
      ],
      "text/plain": [
       "   ID                              TITLE  \\\n",
       "0   4  Jarre joins fairytale celebration   \n",
       "1  11  Greene sets sights on world title   \n",
       "2   7   Watchdog probes e-mail deletions   \n",
       "3   1   Dollar gains on Greenspan speech   \n",
       "4   5   Musical treatment for Capra film   \n",
       "5   6    Labour plans maternity pay rise   \n",
       "6   2  Yukos unit buyer faces loan claim   \n",
       "7   9  Claxton hunting first major medal   \n",
       "8  13   China net cafe culture crackdown   \n",
       "9  12  Ink helps drive democracy in Asia   \n",
       "\n",
       "                                             CONTENT       CATEGORY  \n",
       "0  French musician Jean-Michel Jarre is to perfor...  ENTERTAINMENT  \n",
       "1  Maurice Greene aims to wipe out the pain of lo...          SPORT  \n",
       "2  The information commissioner says he is urgent...       POLITICS  \n",
       "3  The dollar has hit its highest level against t...       BUSINESS  \n",
       "4  The classic film It's A Wonderful Life is to b...  ENTERTAINMENT  \n",
       "5  Maternity pay for new mothers is to rise by £1...       POLITICS  \n",
       "6  The owners of embattled Russian oil giant Yuko...       BUSINESS  \n",
       "7  British hurdler Sarah Claxton is confident she...          SPORT  \n",
       "8  Chinese authorities closed 12,575 net cafes in...           TECH  \n",
       "9  The Kyrgyz Republic, a small, mountainous stat...           TECH  "
      ]
     },
     "execution_count": 12,
     "metadata": {},
     "output_type": "execute_result"
    }
   ],
   "source": [
    "trainDataSet"
   ]
  },
  {
   "cell_type": "code",
   "execution_count": 13,
   "metadata": {
    "ExecuteTime": {
     "end_time": "2020-04-26T13:55:06.036986Z",
     "start_time": "2020-04-26T13:55:05.947093Z"
    }
   },
   "outputs": [
    {
     "data": {
      "text/html": [
       "<div>\n",
       "<style scoped>\n",
       "    .dataframe tbody tr th:only-of-type {\n",
       "        vertical-align: middle;\n",
       "    }\n",
       "\n",
       "    .dataframe tbody tr th {\n",
       "        vertical-align: top;\n",
       "    }\n",
       "\n",
       "    .dataframe thead th {\n",
       "        text-align: right;\n",
       "    }\n",
       "</style>\n",
       "<table border=\"1\" class=\"dataframe\">\n",
       "  <thead>\n",
       "    <tr style=\"text-align: right;\">\n",
       "      <th></th>\n",
       "      <th>ID</th>\n",
       "      <th>TITLE</th>\n",
       "      <th>CONTENT</th>\n",
       "    </tr>\n",
       "  </thead>\n",
       "  <tbody>\n",
       "    <tr>\n",
       "      <th>0</th>\n",
       "      <td>14</td>\n",
       "      <td>Microsoft seeking spyware trojan</td>\n",
       "      <td>Microsoft is investigating a trojan program th...</td>\n",
       "    </tr>\n",
       "    <tr>\n",
       "      <th>1</th>\n",
       "      <td>3</td>\n",
       "      <td>Gallery unveils interactive tree</td>\n",
       "      <td>A Christmas tree that can receive text message...</td>\n",
       "    </tr>\n",
       "    <tr>\n",
       "      <th>2</th>\n",
       "      <td>0</td>\n",
       "      <td>Ad sales boost Time Warner profit</td>\n",
       "      <td>Quarterly profits at US media giant TimeWarner...</td>\n",
       "    </tr>\n",
       "    <tr>\n",
       "      <th>3</th>\n",
       "      <td>10</td>\n",
       "      <td>O'Sullivan could run in Worlds</td>\n",
       "      <td>Sonia O'Sullivan has indicated that she would ...</td>\n",
       "    </tr>\n",
       "    <tr>\n",
       "      <th>4</th>\n",
       "      <td>8</td>\n",
       "      <td>Hewitt decries 'career sexism'</td>\n",
       "      <td>Plans to extend paid maternity leave beyond si...</td>\n",
       "    </tr>\n",
       "  </tbody>\n",
       "</table>\n",
       "</div>"
      ],
      "text/plain": [
       "   ID                              TITLE  \\\n",
       "0  14   Microsoft seeking spyware trojan   \n",
       "1   3   Gallery unveils interactive tree   \n",
       "2   0  Ad sales boost Time Warner profit   \n",
       "3  10     O'Sullivan could run in Worlds   \n",
       "4   8     Hewitt decries 'career sexism'   \n",
       "\n",
       "                                             CONTENT  \n",
       "0  Microsoft is investigating a trojan program th...  \n",
       "1  A Christmas tree that can receive text message...  \n",
       "2  Quarterly profits at US media giant TimeWarner...  \n",
       "3  Sonia O'Sullivan has indicated that she would ...  \n",
       "4  Plans to extend paid maternity leave beyond si...  "
      ]
     },
     "execution_count": 13,
     "metadata": {},
     "output_type": "execute_result"
    }
   ],
   "source": [
    "testDataSet"
   ]
  },
  {
   "cell_type": "code",
   "execution_count": 14,
   "metadata": {
    "ExecuteTime": {
     "end_time": "2020-04-26T13:55:06.124843Z",
     "start_time": "2020-04-26T13:55:06.038212Z"
    }
   },
   "outputs": [
    {
     "data": {
      "text/html": [
       "<div>\n",
       "<style scoped>\n",
       "    .dataframe tbody tr th:only-of-type {\n",
       "        vertical-align: middle;\n",
       "    }\n",
       "\n",
       "    .dataframe tbody tr th {\n",
       "        vertical-align: top;\n",
       "    }\n",
       "\n",
       "    .dataframe thead th {\n",
       "        text-align: right;\n",
       "    }\n",
       "</style>\n",
       "<table border=\"1\" class=\"dataframe\">\n",
       "  <thead>\n",
       "    <tr style=\"text-align: right;\">\n",
       "      <th></th>\n",
       "      <th>CATEGORY</th>\n",
       "    </tr>\n",
       "  </thead>\n",
       "  <tbody>\n",
       "    <tr>\n",
       "      <th>0</th>\n",
       "      <td>TECH</td>\n",
       "    </tr>\n",
       "    <tr>\n",
       "      <th>1</th>\n",
       "      <td>ENTERTAINMENT</td>\n",
       "    </tr>\n",
       "    <tr>\n",
       "      <th>2</th>\n",
       "      <td>BUSINESS</td>\n",
       "    </tr>\n",
       "    <tr>\n",
       "      <th>3</th>\n",
       "      <td>SPORT</td>\n",
       "    </tr>\n",
       "    <tr>\n",
       "      <th>4</th>\n",
       "      <td>POLITICS</td>\n",
       "    </tr>\n",
       "  </tbody>\n",
       "</table>\n",
       "</div>"
      ],
      "text/plain": [
       "        CATEGORY\n",
       "0           TECH\n",
       "1  ENTERTAINMENT\n",
       "2       BUSINESS\n",
       "3          SPORT\n",
       "4       POLITICS"
      ]
     },
     "execution_count": 14,
     "metadata": {},
     "output_type": "execute_result"
    }
   ],
   "source": [
    "testDataSetCategories"
   ]
  }
 ],
 "metadata": {
  "jupytext": {
   "cell_markers": "region,endregion",
   "encoding": "# -*- coding: utf-8 -*-",
   "formats": "ipynb,py:light"
  },
  "kernelspec": {
   "display_name": "Python 3",
   "language": "python",
   "name": "python3"
  },
  "language_info": {
   "codemirror_mode": {
    "name": "ipython",
    "version": 3
   },
   "file_extension": ".py",
   "mimetype": "text/x-python",
   "name": "python",
   "nbconvert_exporter": "python",
   "pygments_lexer": "ipython3",
   "version": "3.7.7"
  }
 },
 "nbformat": 4,
 "nbformat_minor": 4
}
