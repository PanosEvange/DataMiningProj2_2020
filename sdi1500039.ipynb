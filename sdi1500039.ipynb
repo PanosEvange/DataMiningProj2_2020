{
 "cells": [
  {
   "cell_type": "markdown",
   "metadata": {},
   "source": [
    "# <center>Data Mining Project 2 Spring semester 2019-2020</center>\n",
    "## <center>Παναγιώτης Ευαγγελίου &emsp; 1115201500039</center>\n",
    "## <center>Γεώργιος Μαραγκοζάκης &emsp; 1115201500089</center>"
   ]
  },
  {
   "cell_type": "markdown",
   "metadata": {},
   "source": [
    "___"
   ]
  },
  {
   "cell_type": "markdown",
   "metadata": {},
   "source": [
    "### Do all the necessary imports for this notebook"
   ]
  },
  {
   "cell_type": "code",
   "execution_count": 1,
   "metadata": {
    "ExecuteTime": {
     "end_time": "2020-04-26T16:49:34.041480Z",
     "start_time": "2020-04-26T16:49:33.570344Z"
    }
   },
   "outputs": [],
   "source": [
    "# data processing\n",
    "import pandas as pd\n",
    "from sklearn.model_selection import train_test_split\n",
    "\n",
    "# visualization\n",
    "from wordcloud import WordCloud\n",
    "from IPython.display import Image\n",
    "\n",
    "# classification\n",
    "from sklearn.model_selection import KFold\n",
    "from IPython.display import display\n",
    "\n",
    "# for data exploration\n",
    "import os\n",
    "import numpy as np\n"
   ]
  },
  {
   "cell_type": "markdown",
   "metadata": {},
   "source": [
    "## __Dataset Preprocessing__"
   ]
  },
  {
   "cell_type": "markdown",
   "metadata": {},
   "source": [
    "- ### *Make tsv files from all the txt files*"
   ]
  },
  {
   "cell_type": "code",
   "execution_count": 2,
   "metadata": {
    "ExecuteTime": {
     "end_time": "2020-04-26T16:49:40.559004Z",
     "start_time": "2020-04-26T16:49:34.042816Z"
    },
    "lines_to_end_of_cell_marker": 0,
    "lines_to_next_cell": 1
   },
   "outputs": [
    {
     "data": {
      "text/html": [
       "<div>\n",
       "<style scoped>\n",
       "    .dataframe tbody tr th:only-of-type {\n",
       "        vertical-align: middle;\n",
       "    }\n",
       "\n",
       "    .dataframe tbody tr th {\n",
       "        vertical-align: top;\n",
       "    }\n",
       "\n",
       "    .dataframe thead th {\n",
       "        text-align: right;\n",
       "    }\n",
       "</style>\n",
       "<table border=\"1\" class=\"dataframe\">\n",
       "  <thead>\n",
       "    <tr style=\"text-align: right;\">\n",
       "      <th></th>\n",
       "      <th>ID</th>\n",
       "      <th>TITLE</th>\n",
       "      <th>CONTENT</th>\n",
       "      <th>CATEGORY</th>\n",
       "    </tr>\n",
       "  </thead>\n",
       "  <tbody>\n",
       "    <tr>\n",
       "      <th>0</th>\n",
       "      <td>0</td>\n",
       "      <td>Giant waves damage S Asia economy</td>\n",
       "      <td>Governments, aid agencies, insurers and travel...</td>\n",
       "      <td>BUSINESS</td>\n",
       "    </tr>\n",
       "    <tr>\n",
       "      <th>1</th>\n",
       "      <td>1</td>\n",
       "      <td>EMI shares hit by profit warning</td>\n",
       "      <td>Shares in music giant EMI have sunk by more th...</td>\n",
       "      <td>BUSINESS</td>\n",
       "    </tr>\n",
       "    <tr>\n",
       "      <th>2</th>\n",
       "      <td>2</td>\n",
       "      <td>Barclays shares up on merger talk</td>\n",
       "      <td>Shares in UK banking group Barclays have risen...</td>\n",
       "      <td>BUSINESS</td>\n",
       "    </tr>\n",
       "    <tr>\n",
       "      <th>3</th>\n",
       "      <td>3</td>\n",
       "      <td>Trial begins of Spain's top banker</td>\n",
       "      <td>The trial of Emilio Botin, the chairman of Spa...</td>\n",
       "      <td>BUSINESS</td>\n",
       "    </tr>\n",
       "    <tr>\n",
       "      <th>4</th>\n",
       "      <td>4</td>\n",
       "      <td>MG Rover China tie-up 'delayed'</td>\n",
       "      <td>MG Rover's proposed tie-up with China's top ca...</td>\n",
       "      <td>BUSINESS</td>\n",
       "    </tr>\n",
       "    <tr>\n",
       "      <th>...</th>\n",
       "      <td>...</td>\n",
       "      <td>...</td>\n",
       "      <td>...</td>\n",
       "      <td>...</td>\n",
       "    </tr>\n",
       "    <tr>\n",
       "      <th>2219</th>\n",
       "      <td>2219</td>\n",
       "      <td>DVD copy protection strengthened</td>\n",
       "      <td>DVDs will be harder to copy thanks to new anti...</td>\n",
       "      <td>TECH</td>\n",
       "    </tr>\n",
       "    <tr>\n",
       "      <th>2220</th>\n",
       "      <td>2220</td>\n",
       "      <td>Slimmer PlayStation triple sales</td>\n",
       "      <td>Sony PlayStation 2's slimmer shape has proved ...</td>\n",
       "      <td>TECH</td>\n",
       "    </tr>\n",
       "    <tr>\n",
       "      <th>2221</th>\n",
       "      <td>2221</td>\n",
       "      <td>Format wars could 'confuse users'</td>\n",
       "      <td>Technology firms Sony, Philips, Matsushita and...</td>\n",
       "      <td>TECH</td>\n",
       "    </tr>\n",
       "    <tr>\n",
       "      <th>2222</th>\n",
       "      <td>2222</td>\n",
       "      <td>Mobile TV tipped as one to watch</td>\n",
       "      <td>Scandinavians and Koreans, two of the most adv...</td>\n",
       "      <td>TECH</td>\n",
       "    </tr>\n",
       "    <tr>\n",
       "      <th>2223</th>\n",
       "      <td>2223</td>\n",
       "      <td>No half measures with Half-Life 2</td>\n",
       "      <td>Could Half-Life 2 possibly live up to the hype...</td>\n",
       "      <td>TECH</td>\n",
       "    </tr>\n",
       "  </tbody>\n",
       "</table>\n",
       "<p>2224 rows × 4 columns</p>\n",
       "</div>"
      ],
      "text/plain": [
       "        ID                               TITLE  \\\n",
       "0        0   Giant waves damage S Asia economy   \n",
       "1        1    EMI shares hit by profit warning   \n",
       "2        2   Barclays shares up on merger talk   \n",
       "3        3  Trial begins of Spain's top banker   \n",
       "4        4     MG Rover China tie-up 'delayed'   \n",
       "...    ...                                 ...   \n",
       "2219  2219    DVD copy protection strengthened   \n",
       "2220  2220    Slimmer PlayStation triple sales   \n",
       "2221  2221   Format wars could 'confuse users'   \n",
       "2222  2222    Mobile TV tipped as one to watch   \n",
       "2223  2223   No half measures with Half-Life 2   \n",
       "\n",
       "                                                CONTENT  CATEGORY  \n",
       "0     Governments, aid agencies, insurers and travel...  BUSINESS  \n",
       "1     Shares in music giant EMI have sunk by more th...  BUSINESS  \n",
       "2     Shares in UK banking group Barclays have risen...  BUSINESS  \n",
       "3     The trial of Emilio Botin, the chairman of Spa...  BUSINESS  \n",
       "4     MG Rover's proposed tie-up with China's top ca...  BUSINESS  \n",
       "...                                                 ...       ...  \n",
       "2219  DVDs will be harder to copy thanks to new anti...      TECH  \n",
       "2220  Sony PlayStation 2's slimmer shape has proved ...      TECH  \n",
       "2221  Technology firms Sony, Philips, Matsushita and...      TECH  \n",
       "2222  Scandinavians and Koreans, two of the most adv...      TECH  \n",
       "2223  Could Half-Life 2 possibly live up to the hype...      TECH  \n",
       "\n",
       "[2224 rows x 4 columns]"
      ]
     },
     "metadata": {},
     "output_type": "display_data"
    }
   ],
   "source": [
    "myCategoriesFolder = ['business','entertainment','politics', 'sport', 'tech']\n",
    "dataPathDir = './fulltext/data/'\n",
    "\n",
    "myDataSetDf = pd.DataFrame(columns=['ID', 'TITLE',  'CONTENT',  'CATEGORY'])\n",
    "id_count = 0\n",
    "\n",
    "for category in myCategoriesFolder:\n",
    "    specificPath = dataPathDir + category + '/'\n",
    "\n",
    "    # find the column's names of each csv\n",
    "    for fileName in os.listdir(specificPath):\n",
    "        # we need to check only .txt files\n",
    "        if fileName.endswith(\".txt\"):\n",
    "            \n",
    "            thisTxt = open(os.path.join(specificPath, fileName),\"r\")\n",
    "            thisTxtTitle = thisTxt.readline()\n",
    "\n",
    "            # get rid of '\\n' on the end of title line\n",
    "            thisTxtTitle = thisTxtTitle.replace('\\n', '')\n",
    "\n",
    "            thisTxtContent = thisTxt.readlines()\n",
    "\n",
    "            # get rid of empty lines '\\n'\n",
    "            thisTxtContent = list(filter(lambda a: a != '\\n', thisTxtContent))\n",
    "\n",
    "            # get rid of '\\n' on the end of each line \n",
    "            thisTxtContent = [period.replace('\\n', '') for period in thisTxtContent]\n",
    "\n",
    "            # convert list of lines into a single string line\n",
    "            thisTxtContent = ' '.join(thisTxtContent)\n",
    "\n",
    "            myDataSetDf = myDataSetDf.append({'ID': id_count, 'TITLE': thisTxtTitle, 'CONTENT': thisTxtContent, 'CATEGORY': category.upper()}, ignore_index=True)\n",
    "            thisTxt.close()\n",
    "\n",
    "            id_count += 1\n",
    "\n",
    "display(myDataSetDf)"
   ]
  },
  {
   "cell_type": "markdown",
   "metadata": {},
   "source": [
    "## __Make wordcloud for each category__"
   ]
  },
  {
   "cell_type": "code",
   "execution_count": 3,
   "metadata": {
    "ExecuteTime": {
     "end_time": "2020-04-26T16:49:40.564453Z",
     "start_time": "2020-04-26T16:49:40.560788Z"
    }
   },
   "outputs": [],
   "source": [
    "def makeWordCloud(myText, saveLocationPath, myMaxWords=100, myMask=None, myStopWords=None):\n",
    "    '''Default function for generating wordcloud'''\n",
    "\n",
    "    wc = WordCloud(background_color=\"white\", mask=myMask, max_words=myMaxWords,\n",
    "                   stopwords=myStopWords, contour_width=3, contour_color='steelblue')\n",
    "\n",
    "    # generate word cloud\n",
    "    wc.generate(myText)\n",
    "\n",
    "    # store to file\n",
    "\n",
    "    wc.to_file(saveLocationPath)\n",
    "\n",
    "    return saveLocationPath"
   ]
  },
  {
   "cell_type": "markdown",
   "metadata": {},
   "source": [
    "- ### *Business Wordcloud*"
   ]
  },
  {
   "cell_type": "code",
   "execution_count": 4,
   "metadata": {
    "ExecuteTime": {
     "end_time": "2020-04-26T16:49:40.960458Z",
     "start_time": "2020-04-26T16:49:40.565852Z"
    }
   },
   "outputs": [],
   "source": [
    "\n",
    "# to fill\n"
   ]
  },
  {
   "cell_type": "markdown",
   "metadata": {},
   "source": [
    "- ### *Entertainment Wordcloud*"
   ]
  },
  {
   "cell_type": "code",
   "execution_count": 5,
   "metadata": {
    "ExecuteTime": {
     "end_time": "2020-04-26T16:49:41.176353Z",
     "start_time": "2020-04-26T16:49:40.962313Z"
    }
   },
   "outputs": [],
   "source": [
    "\n",
    "# to fill\n"
   ]
  },
  {
   "cell_type": "markdown",
   "metadata": {},
   "source": [
    "- ### *Politics Wordcloud*"
   ]
  },
  {
   "cell_type": "code",
   "execution_count": 6,
   "metadata": {
    "ExecuteTime": {
     "end_time": "2020-04-26T16:49:41.276313Z",
     "start_time": "2020-04-26T16:49:41.178432Z"
    }
   },
   "outputs": [],
   "source": [
    "\n",
    "# to fill\n"
   ]
  },
  {
   "cell_type": "markdown",
   "metadata": {},
   "source": [
    "- ### *Sport Wordcloud*"
   ]
  },
  {
   "cell_type": "code",
   "execution_count": 7,
   "metadata": {
    "ExecuteTime": {
     "end_time": "2020-04-26T16:49:41.353917Z",
     "start_time": "2020-04-26T16:49:41.277735Z"
    }
   },
   "outputs": [],
   "source": [
    "\n",
    "# to fill\n"
   ]
  },
  {
   "cell_type": "markdown",
   "metadata": {},
   "source": [
    "- ### *Tech Wordcloud*"
   ]
  },
  {
   "cell_type": "code",
   "execution_count": 8,
   "metadata": {
    "ExecuteTime": {
     "end_time": "2020-04-26T16:49:41.431780Z",
     "start_time": "2020-04-26T16:49:41.356048Z"
    }
   },
   "outputs": [],
   "source": [
    "\n",
    "# to fill\n"
   ]
  },
  {
   "cell_type": "markdown",
   "metadata": {},
   "source": [
    "## __Classification__"
   ]
  },
  {
   "cell_type": "markdown",
   "metadata": {},
   "source": [
    "- ### *Split DataSet into TrainData and TestData*"
   ]
  },
  {
   "cell_type": "code",
   "execution_count": 9,
   "metadata": {
    "ExecuteTime": {
     "end_time": "2020-04-26T16:49:41.662240Z",
     "start_time": "2020-04-26T16:49:41.433340Z"
    }
   },
   "outputs": [],
   "source": [
    "trainDataSet, testDataSet = train_test_split(myDataSetDf, test_size=0.2, stratify=myDataSetDf['CATEGORY'])\n",
    "\n",
    "# reset index\n",
    "trainDataSet.reset_index(drop=True, inplace=True)\n",
    "testDataSet.reset_index(drop=True, inplace=True)\n",
    "\n",
    "# save to tsv files\n",
    "trainDataSet.to_csv('train_set.tsv', sep = '\\t')\n",
    "\n",
    "# save test_set categories\n",
    "testDataSetCategories = testDataSet[['CATEGORY']].copy()\n",
    "\n",
    "testDataSetCategories.to_csv('test_set_categories.tsv', sep = '\\t')\n",
    "\n",
    "testDataSet = testDataSet.drop('CATEGORY', axis=1)\n",
    "testDataSet.to_csv('test_set.tsv', sep = '\\t')"
   ]
  },
  {
   "cell_type": "code",
   "execution_count": 10,
   "metadata": {
    "ExecuteTime": {
     "end_time": "2020-04-26T16:49:41.737908Z",
     "start_time": "2020-04-26T16:49:41.663446Z"
    }
   },
   "outputs": [
    {
     "data": {
      "text/html": [
       "<div>\n",
       "<style scoped>\n",
       "    .dataframe tbody tr th:only-of-type {\n",
       "        vertical-align: middle;\n",
       "    }\n",
       "\n",
       "    .dataframe tbody tr th {\n",
       "        vertical-align: top;\n",
       "    }\n",
       "\n",
       "    .dataframe thead th {\n",
       "        text-align: right;\n",
       "    }\n",
       "</style>\n",
       "<table border=\"1\" class=\"dataframe\">\n",
       "  <thead>\n",
       "    <tr style=\"text-align: right;\">\n",
       "      <th></th>\n",
       "      <th>ID</th>\n",
       "      <th>TITLE</th>\n",
       "      <th>CONTENT</th>\n",
       "      <th>CATEGORY</th>\n",
       "    </tr>\n",
       "  </thead>\n",
       "  <tbody>\n",
       "    <tr>\n",
       "      <th>0</th>\n",
       "      <td>0</td>\n",
       "      <td>Giant waves damage S Asia economy</td>\n",
       "      <td>Governments, aid agencies, insurers and travel...</td>\n",
       "      <td>BUSINESS</td>\n",
       "    </tr>\n",
       "    <tr>\n",
       "      <th>1</th>\n",
       "      <td>1</td>\n",
       "      <td>EMI shares hit by profit warning</td>\n",
       "      <td>Shares in music giant EMI have sunk by more th...</td>\n",
       "      <td>BUSINESS</td>\n",
       "    </tr>\n",
       "    <tr>\n",
       "      <th>2</th>\n",
       "      <td>2</td>\n",
       "      <td>Barclays shares up on merger talk</td>\n",
       "      <td>Shares in UK banking group Barclays have risen...</td>\n",
       "      <td>BUSINESS</td>\n",
       "    </tr>\n",
       "    <tr>\n",
       "      <th>3</th>\n",
       "      <td>3</td>\n",
       "      <td>Trial begins of Spain's top banker</td>\n",
       "      <td>The trial of Emilio Botin, the chairman of Spa...</td>\n",
       "      <td>BUSINESS</td>\n",
       "    </tr>\n",
       "    <tr>\n",
       "      <th>4</th>\n",
       "      <td>4</td>\n",
       "      <td>MG Rover China tie-up 'delayed'</td>\n",
       "      <td>MG Rover's proposed tie-up with China's top ca...</td>\n",
       "      <td>BUSINESS</td>\n",
       "    </tr>\n",
       "    <tr>\n",
       "      <th>...</th>\n",
       "      <td>...</td>\n",
       "      <td>...</td>\n",
       "      <td>...</td>\n",
       "      <td>...</td>\n",
       "    </tr>\n",
       "    <tr>\n",
       "      <th>2219</th>\n",
       "      <td>2219</td>\n",
       "      <td>DVD copy protection strengthened</td>\n",
       "      <td>DVDs will be harder to copy thanks to new anti...</td>\n",
       "      <td>TECH</td>\n",
       "    </tr>\n",
       "    <tr>\n",
       "      <th>2220</th>\n",
       "      <td>2220</td>\n",
       "      <td>Slimmer PlayStation triple sales</td>\n",
       "      <td>Sony PlayStation 2's slimmer shape has proved ...</td>\n",
       "      <td>TECH</td>\n",
       "    </tr>\n",
       "    <tr>\n",
       "      <th>2221</th>\n",
       "      <td>2221</td>\n",
       "      <td>Format wars could 'confuse users'</td>\n",
       "      <td>Technology firms Sony, Philips, Matsushita and...</td>\n",
       "      <td>TECH</td>\n",
       "    </tr>\n",
       "    <tr>\n",
       "      <th>2222</th>\n",
       "      <td>2222</td>\n",
       "      <td>Mobile TV tipped as one to watch</td>\n",
       "      <td>Scandinavians and Koreans, two of the most adv...</td>\n",
       "      <td>TECH</td>\n",
       "    </tr>\n",
       "    <tr>\n",
       "      <th>2223</th>\n",
       "      <td>2223</td>\n",
       "      <td>No half measures with Half-Life 2</td>\n",
       "      <td>Could Half-Life 2 possibly live up to the hype...</td>\n",
       "      <td>TECH</td>\n",
       "    </tr>\n",
       "  </tbody>\n",
       "</table>\n",
       "<p>2224 rows × 4 columns</p>\n",
       "</div>"
      ],
      "text/plain": [
       "        ID                               TITLE  \\\n",
       "0        0   Giant waves damage S Asia economy   \n",
       "1        1    EMI shares hit by profit warning   \n",
       "2        2   Barclays shares up on merger talk   \n",
       "3        3  Trial begins of Spain's top banker   \n",
       "4        4     MG Rover China tie-up 'delayed'   \n",
       "...    ...                                 ...   \n",
       "2219  2219    DVD copy protection strengthened   \n",
       "2220  2220    Slimmer PlayStation triple sales   \n",
       "2221  2221   Format wars could 'confuse users'   \n",
       "2222  2222    Mobile TV tipped as one to watch   \n",
       "2223  2223   No half measures with Half-Life 2   \n",
       "\n",
       "                                                CONTENT  CATEGORY  \n",
       "0     Governments, aid agencies, insurers and travel...  BUSINESS  \n",
       "1     Shares in music giant EMI have sunk by more th...  BUSINESS  \n",
       "2     Shares in UK banking group Barclays have risen...  BUSINESS  \n",
       "3     The trial of Emilio Botin, the chairman of Spa...  BUSINESS  \n",
       "4     MG Rover's proposed tie-up with China's top ca...  BUSINESS  \n",
       "...                                                 ...       ...  \n",
       "2219  DVDs will be harder to copy thanks to new anti...      TECH  \n",
       "2220  Sony PlayStation 2's slimmer shape has proved ...      TECH  \n",
       "2221  Technology firms Sony, Philips, Matsushita and...      TECH  \n",
       "2222  Scandinavians and Koreans, two of the most adv...      TECH  \n",
       "2223  Could Half-Life 2 possibly live up to the hype...      TECH  \n",
       "\n",
       "[2224 rows x 4 columns]"
      ]
     },
     "execution_count": 10,
     "metadata": {},
     "output_type": "execute_result"
    }
   ],
   "source": [
    "myDataSetDf"
   ]
  },
  {
   "cell_type": "code",
   "execution_count": 11,
   "metadata": {
    "ExecuteTime": {
     "end_time": "2020-04-26T16:49:41.840332Z",
     "start_time": "2020-04-26T16:49:41.739208Z"
    }
   },
   "outputs": [
    {
     "data": {
      "text/html": [
       "<div>\n",
       "<style scoped>\n",
       "    .dataframe tbody tr th:only-of-type {\n",
       "        vertical-align: middle;\n",
       "    }\n",
       "\n",
       "    .dataframe tbody tr th {\n",
       "        vertical-align: top;\n",
       "    }\n",
       "\n",
       "    .dataframe thead th {\n",
       "        text-align: right;\n",
       "    }\n",
       "</style>\n",
       "<table border=\"1\" class=\"dataframe\">\n",
       "  <thead>\n",
       "    <tr style=\"text-align: right;\">\n",
       "      <th></th>\n",
       "      <th>ID</th>\n",
       "      <th>TITLE</th>\n",
       "      <th>CONTENT</th>\n",
       "      <th>CATEGORY</th>\n",
       "    </tr>\n",
       "  </thead>\n",
       "  <tbody>\n",
       "    <tr>\n",
       "      <th>0</th>\n",
       "      <td>113</td>\n",
       "      <td>Lufthansa flies back to profit</td>\n",
       "      <td>German airline Lufthansa has returned to profi...</td>\n",
       "      <td>BUSINESS</td>\n",
       "    </tr>\n",
       "    <tr>\n",
       "      <th>1</th>\n",
       "      <td>499</td>\n",
       "      <td>German economy rebounds</td>\n",
       "      <td>Germany's economy, the biggest among the 12 co...</td>\n",
       "      <td>BUSINESS</td>\n",
       "    </tr>\n",
       "    <tr>\n",
       "      <th>2</th>\n",
       "      <td>589</td>\n",
       "      <td>Sir Paul rocks Super Bowl crowds</td>\n",
       "      <td>Sir Paul McCartney wowed fans with a live mini...</td>\n",
       "      <td>ENTERTAINMENT</td>\n",
       "    </tr>\n",
       "    <tr>\n",
       "      <th>3</th>\n",
       "      <td>2033</td>\n",
       "      <td>Mobiles 'not media players yet'</td>\n",
       "      <td>Mobiles are not yet ready to be all-singing, a...</td>\n",
       "      <td>TECH</td>\n",
       "    </tr>\n",
       "    <tr>\n",
       "      <th>4</th>\n",
       "      <td>592</td>\n",
       "      <td>US composer recreates Bach score</td>\n",
       "      <td>A US musicologist has recreated a lost musical...</td>\n",
       "      <td>ENTERTAINMENT</td>\n",
       "    </tr>\n",
       "    <tr>\n",
       "      <th>...</th>\n",
       "      <td>...</td>\n",
       "      <td>...</td>\n",
       "      <td>...</td>\n",
       "      <td>...</td>\n",
       "    </tr>\n",
       "    <tr>\n",
       "      <th>1774</th>\n",
       "      <td>467</td>\n",
       "      <td>Malaysia lifts Islamic bank limit</td>\n",
       "      <td>Malaysia's central bank is to relax restrictio...</td>\n",
       "      <td>BUSINESS</td>\n",
       "    </tr>\n",
       "    <tr>\n",
       "      <th>1775</th>\n",
       "      <td>1577</td>\n",
       "      <td>Federer joins all-time greats</td>\n",
       "      <td>The last year has seen one player dominate men...</td>\n",
       "      <td>SPORT</td>\n",
       "    </tr>\n",
       "    <tr>\n",
       "      <th>1776</th>\n",
       "      <td>1533</td>\n",
       "      <td>Melzer shocks Agassi in San Jose</td>\n",
       "      <td>Second seed Andre Agassi suffered a comprehens...</td>\n",
       "      <td>SPORT</td>\n",
       "    </tr>\n",
       "    <tr>\n",
       "      <th>1777</th>\n",
       "      <td>723</td>\n",
       "      <td>Housewives lift Channel 4 ratings</td>\n",
       "      <td>The debut of US television hit Desperate House...</td>\n",
       "      <td>ENTERTAINMENT</td>\n",
       "    </tr>\n",
       "    <tr>\n",
       "      <th>1778</th>\n",
       "      <td>404</td>\n",
       "      <td>India and Russia in energy talks</td>\n",
       "      <td>India and Russia are to work together in a ser...</td>\n",
       "      <td>BUSINESS</td>\n",
       "    </tr>\n",
       "  </tbody>\n",
       "</table>\n",
       "<p>1779 rows × 4 columns</p>\n",
       "</div>"
      ],
      "text/plain": [
       "        ID                              TITLE  \\\n",
       "0      113     Lufthansa flies back to profit   \n",
       "1      499            German economy rebounds   \n",
       "2      589   Sir Paul rocks Super Bowl crowds   \n",
       "3     2033    Mobiles 'not media players yet'   \n",
       "4      592   US composer recreates Bach score   \n",
       "...    ...                                ...   \n",
       "1774   467  Malaysia lifts Islamic bank limit   \n",
       "1775  1577      Federer joins all-time greats   \n",
       "1776  1533   Melzer shocks Agassi in San Jose   \n",
       "1777   723  Housewives lift Channel 4 ratings   \n",
       "1778   404   India and Russia in energy talks   \n",
       "\n",
       "                                                CONTENT       CATEGORY  \n",
       "0     German airline Lufthansa has returned to profi...       BUSINESS  \n",
       "1     Germany's economy, the biggest among the 12 co...       BUSINESS  \n",
       "2     Sir Paul McCartney wowed fans with a live mini...  ENTERTAINMENT  \n",
       "3     Mobiles are not yet ready to be all-singing, a...           TECH  \n",
       "4     A US musicologist has recreated a lost musical...  ENTERTAINMENT  \n",
       "...                                                 ...            ...  \n",
       "1774  Malaysia's central bank is to relax restrictio...       BUSINESS  \n",
       "1775  The last year has seen one player dominate men...          SPORT  \n",
       "1776  Second seed Andre Agassi suffered a comprehens...          SPORT  \n",
       "1777  The debut of US television hit Desperate House...  ENTERTAINMENT  \n",
       "1778  India and Russia are to work together in a ser...       BUSINESS  \n",
       "\n",
       "[1779 rows x 4 columns]"
      ]
     },
     "execution_count": 11,
     "metadata": {},
     "output_type": "execute_result"
    }
   ],
   "source": [
    "trainDataSet"
   ]
  },
  {
   "cell_type": "code",
   "execution_count": 12,
   "metadata": {
    "ExecuteTime": {
     "end_time": "2020-04-26T16:49:41.945568Z",
     "start_time": "2020-04-26T16:49:41.841846Z"
    }
   },
   "outputs": [
    {
     "data": {
      "text/html": [
       "<div>\n",
       "<style scoped>\n",
       "    .dataframe tbody tr th:only-of-type {\n",
       "        vertical-align: middle;\n",
       "    }\n",
       "\n",
       "    .dataframe tbody tr th {\n",
       "        vertical-align: top;\n",
       "    }\n",
       "\n",
       "    .dataframe thead th {\n",
       "        text-align: right;\n",
       "    }\n",
       "</style>\n",
       "<table border=\"1\" class=\"dataframe\">\n",
       "  <thead>\n",
       "    <tr style=\"text-align: right;\">\n",
       "      <th></th>\n",
       "      <th>ID</th>\n",
       "      <th>TITLE</th>\n",
       "      <th>CONTENT</th>\n",
       "    </tr>\n",
       "  </thead>\n",
       "  <tbody>\n",
       "    <tr>\n",
       "      <th>0</th>\n",
       "      <td>1773</td>\n",
       "      <td>Lewis-Francis eyeing world gold</td>\n",
       "      <td>Mark Lewis-Francis says his Olympic success ha...</td>\n",
       "    </tr>\n",
       "    <tr>\n",
       "      <th>1</th>\n",
       "      <td>2038</td>\n",
       "      <td>Xbox power cable 'fire fear'</td>\n",
       "      <td>Microsoft has said it will replace more than 1...</td>\n",
       "    </tr>\n",
       "    <tr>\n",
       "      <th>2</th>\n",
       "      <td>2110</td>\n",
       "      <td>Apple sues 'Tiger' file sharers</td>\n",
       "      <td>Apple has taken more legal action to stop onli...</td>\n",
       "    </tr>\n",
       "    <tr>\n",
       "      <th>3</th>\n",
       "      <td>856</td>\n",
       "      <td>Bets off after Big Brother 'leak'</td>\n",
       "      <td>A bookmaker has stopped taking bets on Celebri...</td>\n",
       "    </tr>\n",
       "    <tr>\n",
       "      <th>4</th>\n",
       "      <td>2106</td>\n",
       "      <td>Blogger grounded by her airline</td>\n",
       "      <td>A US airline attendant is fighting for her job...</td>\n",
       "    </tr>\n",
       "    <tr>\n",
       "      <th>...</th>\n",
       "      <td>...</td>\n",
       "      <td>...</td>\n",
       "      <td>...</td>\n",
       "    </tr>\n",
       "    <tr>\n",
       "      <th>440</th>\n",
       "      <td>478</td>\n",
       "      <td>Saudi ministry to employ women</td>\n",
       "      <td>Women will be employed in Saudi Arabia's forei...</td>\n",
       "    </tr>\n",
       "    <tr>\n",
       "      <th>441</th>\n",
       "      <td>791</td>\n",
       "      <td>German music in a 'zombie' state</td>\n",
       "      <td>The German music business - the third largest ...</td>\n",
       "    </tr>\n",
       "    <tr>\n",
       "      <th>442</th>\n",
       "      <td>1051</td>\n",
       "      <td>What really divides the parties</td>\n",
       "      <td>So what is the gap between Labour and the Tori...</td>\n",
       "    </tr>\n",
       "    <tr>\n",
       "      <th>443</th>\n",
       "      <td>700</td>\n",
       "      <td>Bangkok film festival battles on</td>\n",
       "      <td>Organisers of the third Bangkok International ...</td>\n",
       "    </tr>\n",
       "    <tr>\n",
       "      <th>444</th>\n",
       "      <td>1858</td>\n",
       "      <td>Progress on new internet domains</td>\n",
       "      <td>By early 2005 the net could have two new domai...</td>\n",
       "    </tr>\n",
       "  </tbody>\n",
       "</table>\n",
       "<p>445 rows × 3 columns</p>\n",
       "</div>"
      ],
      "text/plain": [
       "       ID                              TITLE  \\\n",
       "0    1773    Lewis-Francis eyeing world gold   \n",
       "1    2038       Xbox power cable 'fire fear'   \n",
       "2    2110    Apple sues 'Tiger' file sharers   \n",
       "3     856  Bets off after Big Brother 'leak'   \n",
       "4    2106    Blogger grounded by her airline   \n",
       "..    ...                                ...   \n",
       "440   478     Saudi ministry to employ women   \n",
       "441   791   German music in a 'zombie' state   \n",
       "442  1051    What really divides the parties   \n",
       "443   700   Bangkok film festival battles on   \n",
       "444  1858   Progress on new internet domains   \n",
       "\n",
       "                                               CONTENT  \n",
       "0    Mark Lewis-Francis says his Olympic success ha...  \n",
       "1    Microsoft has said it will replace more than 1...  \n",
       "2    Apple has taken more legal action to stop onli...  \n",
       "3    A bookmaker has stopped taking bets on Celebri...  \n",
       "4    A US airline attendant is fighting for her job...  \n",
       "..                                                 ...  \n",
       "440  Women will be employed in Saudi Arabia's forei...  \n",
       "441  The German music business - the third largest ...  \n",
       "442  So what is the gap between Labour and the Tori...  \n",
       "443  Organisers of the third Bangkok International ...  \n",
       "444  By early 2005 the net could have two new domai...  \n",
       "\n",
       "[445 rows x 3 columns]"
      ]
     },
     "execution_count": 12,
     "metadata": {},
     "output_type": "execute_result"
    }
   ],
   "source": [
    "testDataSet"
   ]
  },
  {
   "cell_type": "code",
   "execution_count": 13,
   "metadata": {
    "ExecuteTime": {
     "end_time": "2020-04-26T16:49:42.071380Z",
     "start_time": "2020-04-26T16:49:41.947469Z"
    }
   },
   "outputs": [
    {
     "data": {
      "text/html": [
       "<div>\n",
       "<style scoped>\n",
       "    .dataframe tbody tr th:only-of-type {\n",
       "        vertical-align: middle;\n",
       "    }\n",
       "\n",
       "    .dataframe tbody tr th {\n",
       "        vertical-align: top;\n",
       "    }\n",
       "\n",
       "    .dataframe thead th {\n",
       "        text-align: right;\n",
       "    }\n",
       "</style>\n",
       "<table border=\"1\" class=\"dataframe\">\n",
       "  <thead>\n",
       "    <tr style=\"text-align: right;\">\n",
       "      <th></th>\n",
       "      <th>CATEGORY</th>\n",
       "    </tr>\n",
       "  </thead>\n",
       "  <tbody>\n",
       "    <tr>\n",
       "      <th>0</th>\n",
       "      <td>SPORT</td>\n",
       "    </tr>\n",
       "    <tr>\n",
       "      <th>1</th>\n",
       "      <td>TECH</td>\n",
       "    </tr>\n",
       "    <tr>\n",
       "      <th>2</th>\n",
       "      <td>TECH</td>\n",
       "    </tr>\n",
       "    <tr>\n",
       "      <th>3</th>\n",
       "      <td>ENTERTAINMENT</td>\n",
       "    </tr>\n",
       "    <tr>\n",
       "      <th>4</th>\n",
       "      <td>TECH</td>\n",
       "    </tr>\n",
       "    <tr>\n",
       "      <th>...</th>\n",
       "      <td>...</td>\n",
       "    </tr>\n",
       "    <tr>\n",
       "      <th>440</th>\n",
       "      <td>BUSINESS</td>\n",
       "    </tr>\n",
       "    <tr>\n",
       "      <th>441</th>\n",
       "      <td>ENTERTAINMENT</td>\n",
       "    </tr>\n",
       "    <tr>\n",
       "      <th>442</th>\n",
       "      <td>POLITICS</td>\n",
       "    </tr>\n",
       "    <tr>\n",
       "      <th>443</th>\n",
       "      <td>ENTERTAINMENT</td>\n",
       "    </tr>\n",
       "    <tr>\n",
       "      <th>444</th>\n",
       "      <td>TECH</td>\n",
       "    </tr>\n",
       "  </tbody>\n",
       "</table>\n",
       "<p>445 rows × 1 columns</p>\n",
       "</div>"
      ],
      "text/plain": [
       "          CATEGORY\n",
       "0            SPORT\n",
       "1             TECH\n",
       "2             TECH\n",
       "3    ENTERTAINMENT\n",
       "4             TECH\n",
       "..             ...\n",
       "440       BUSINESS\n",
       "441  ENTERTAINMENT\n",
       "442       POLITICS\n",
       "443  ENTERTAINMENT\n",
       "444           TECH\n",
       "\n",
       "[445 rows x 1 columns]"
      ]
     },
     "execution_count": 13,
     "metadata": {},
     "output_type": "execute_result"
    }
   ],
   "source": [
    "testDataSetCategories"
   ]
  },
  {
   "cell_type": "code",
   "execution_count": 14,
   "metadata": {
    "ExecuteTime": {
     "end_time": "2020-04-26T16:49:42.165674Z",
     "start_time": "2020-04-26T16:49:42.072784Z"
    }
   },
   "outputs": [],
   "source": [
    "# use 10-fold cross validation\n",
    "kf = KFold(n_splits=10)"
   ]
  },
  {
   "cell_type": "code",
   "execution_count": 15,
   "metadata": {
    "ExecuteTime": {
     "end_time": "2020-04-26T16:49:42.255262Z",
     "start_time": "2020-04-26T16:49:42.166949Z"
    }
   },
   "outputs": [
    {
     "data": {
      "text/plain": [
       "KFold(n_splits=10, random_state=None, shuffle=False)"
      ]
     },
     "execution_count": 15,
     "metadata": {},
     "output_type": "execute_result"
    }
   ],
   "source": [
    "kf"
   ]
  }
 ],
 "metadata": {
  "jupytext": {
   "cell_markers": "region,endregion",
   "encoding": "# -*- coding: utf-8 -*-",
   "formats": "ipynb,py:light"
  },
  "kernelspec": {
   "display_name": "Python 3",
   "language": "python",
   "name": "python3"
  },
  "language_info": {
   "codemirror_mode": {
    "name": "ipython",
    "version": 3
   },
   "file_extension": ".py",
   "mimetype": "text/x-python",
   "name": "python",
   "nbconvert_exporter": "python",
   "pygments_lexer": "ipython3",
   "version": "3.7.7"
  }
 },
 "nbformat": 4,
 "nbformat_minor": 4
}
